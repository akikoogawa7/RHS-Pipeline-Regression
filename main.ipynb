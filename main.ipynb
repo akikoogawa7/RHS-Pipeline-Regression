{
 "cells": [
  {
   "cell_type": "code",
   "execution_count": 11,
   "source": [
    "from sklearn import linear_model\n",
    "from get_data import split_data\n",
    "from time import perf_counter\n",
    "from sklearn.model_selection import cross_val_score\n",
    "import numpy as np\n",
    "\n",
    "X, y, X_train, y_train, X_test, y_test, X_val, y_val = split_data()"
   ],
   "outputs": [],
   "metadata": {}
  },
  {
   "cell_type": "code",
   "execution_count": 12,
   "source": [
    "# Create txt file of model performance\n",
    "def create_report(model):\n",
    "    with open(f'{model}_metrics.txt', 'w') as outfile:\n",
    "        outfile.write(f\"Regression Metrics:\\nFit time: {fit_time}\\n{clf} training scores: {train_scores}\\n{clf} testing scores: {test_scores}\\nMean train score: {np.mean(train_scores)}\\nMean test score: {np.mean(test_scores)}\")"
   ],
   "outputs": [],
   "metadata": {}
  },
  {
   "cell_type": "code",
   "execution_count": 13,
   "source": [
    "models = [\n",
    "    linear_model.LinearRegression(),\n",
    "    linear_model.BayesianRidge(),\n",
    "]\n",
    "for model in models:\n",
    "    time_start = perf_counter()\n",
    "    clf = model\n",
    "    clf.fit(X_train, y_train)\n",
    "    time_finished = perf_counter()\n",
    "    fit_time = time_start - time_finished\n",
    "    clf.predict(X_train)\n",
    "    train_scores = cross_val_score(clf, X, y, cv=5)\n",
    "    test_scores = cross_val_score(clf, X, y, cv=5)\n",
    "    print(f'{clf}\\nTrain scores:\\n{train_scores}\\nTest scores: {test_scores}\\nFit time: {fit_time}\\nMean train score: {np.mean(train_scores)}\\nMean test score: {np.mean(test_scores)}')\n",
    "    create_report(model)"
   ],
   "outputs": [
    {
     "output_type": "stream",
     "name": "stdout",
     "text": [
      "LinearRegression()\n",
      "Train scores:\n",
      "[0.75035526 0.66521853 0.81274289 0.68570188 0.61283174]\n",
      "Test scores: [0.75035526 0.66521853 0.81274289 0.68570188 0.61283174]\n",
      "Fit time: -0.005187290999970173\n",
      "Mean train score: 0.7053700597679476\n",
      "Mean test score: 0.7053700597679476\n",
      "BayesianRidge()\n",
      "Train scores:\n",
      "[0.75069463 0.66559381 0.81256492 0.68674884 0.61347532]\n",
      "Test scores: [0.75069463 0.66559381 0.81256492 0.68674884 0.61347532]\n",
      "Fit time: -0.00863029100003132\n",
      "Mean train score: 0.7058155051755413\n",
      "Mean test score: 0.7058155051755413\n"
     ]
    }
   ],
   "metadata": {}
  }
 ],
 "metadata": {
  "orig_nbformat": 4,
  "language_info": {
   "name": "python",
   "version": "3.9.1",
   "mimetype": "text/x-python",
   "codemirror_mode": {
    "name": "ipython",
    "version": 3
   },
   "pygments_lexer": "ipython3",
   "nbconvert_exporter": "python",
   "file_extension": ".py"
  },
  "kernelspec": {
   "name": "python3",
   "display_name": "Python 3.9.1 64-bit ('base': conda)"
  },
  "interpreter": {
   "hash": "569d6b7e9215e11aba41c6454007e5c1b78bad7df09dab765d8cf00362c40f03"
  }
 },
 "nbformat": 4,
 "nbformat_minor": 2
}