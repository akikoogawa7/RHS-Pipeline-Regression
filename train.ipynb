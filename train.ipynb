{
 "cells": [
  {
   "cell_type": "code",
   "execution_count": 1,
   "source": [
    "from sklearn import model_selection, preprocessing\n",
    "from sklearn.preprocessing import StandardScaler\n",
    "from sklearn.model_selection import train_test_split, validation_curve, cross_val_score\n",
    "from sklearn. linear_model import LinearRegression\n",
    "from sklearn.metrics import r2_score\n",
    "from get_data import split_data\n",
    "import numpy as np\n",
    "import pandas as pd\n",
    "\n",
    "# Set random seed\n",
    "seed = 42"
   ],
   "outputs": [],
   "metadata": {}
  },
  {
   "cell_type": "markdown",
   "source": [
    "## Import Cleaned Data"
   ],
   "metadata": {}
  },
  {
   "cell_type": "code",
   "execution_count": 2,
   "source": [
    "X = pd.read_csv('rhs_cleaned_dataset.csv')\n",
    "y = X.pop('Max Time To Ultimate Height')\n",
    "X = X[['Full Sun', 'Sheltered', 'Generally pest free']]"
   ],
   "outputs": [],
   "metadata": {}
  },
  {
   "cell_type": "code",
   "execution_count": 3,
   "source": [
    "# Train data\n",
    "X_train, X_test, y_train, y_test = train_test_split(X, y, test_size=0.8, random_state=seed)\n",
    "X_train, X_val, y_train, y_val = train_test_split(X, y, test_size=0.8, random_state=seed)"
   ],
   "outputs": [],
   "metadata": {}
  },
  {
   "cell_type": "code",
   "execution_count": 4,
   "source": [
    "# Normalise data\n",
    "scaler = preprocessing.StandardScaler()\n",
    "X_train_scaler= scaler.fit(X_train)\n",
    "X_scaled = X_train_scaler.transform(X_train)"
   ],
   "outputs": [],
   "metadata": {}
  },
  {
   "cell_type": "markdown",
   "source": [
    "## Fitting Linear Model\n",
    "### Setting the baseline"
   ],
   "metadata": {}
  },
  {
   "cell_type": "code",
   "execution_count": 5,
   "source": [
    "# Fit model\n",
    "linear_regression_model = LinearRegression(normalize=True)\n",
    "linear_regression_model.fit(X_train, y_train)\n",
    "lin_reg_train_score = linear_regression_model.score(X_train, y_train)\n",
    "lin_reg_val_score = linear_regression_model.score(X_val, y_val)\n",
    "\n",
    "# Check scores on train and validation\n",
    "print(f'Score on the training set is: {lin_reg_train_score}')\n",
    "print(f'Score on the validation set is: {lin_reg_val_score}')\n",
    "print(f'Linear regression coefficients are: {linear_regression_model.coef_}')\n",
    "\n",
    "# Check cross validation score on validation set\n",
    "lin_reg_cross_val_scores = cross_val_score(linear_regression_model, X_val, y_val, cv=5)\n",
    "print(f'cross validation scores: {lin_reg_cross_val_scores}')\n",
    "print(\"%0.2f accuracy with a standard deviation of %0.2f\" % (lin_reg_cross_val_scores.mean(), lin_reg_cross_val_scores.std()))\n",
    "\n",
    "y_pred = linear_regression_model.predict(X)\n",
    "print(f'predicted values: {y_pred}')"
   ],
   "outputs": [
    {
     "output_type": "stream",
     "name": "stdout",
     "text": [
      "Score on the training set is: 0.020828962483377178\n",
      "Score on the validation set is: -0.029735847724890352\n",
      "Linear regression coefficients are: [ 3.19076528 -1.9370705  -3.25195479]\n",
      "cross validation scores: [-0.00668128 -0.0082786  -0.00301021 -0.00376647 -0.01441289]\n",
      "-0.01 accuracy with a standard deviation of 0.00\n",
      "predicted values: [12.7042661  14.7025261  15.95622089 ...  9.51350082 14.7025261\n",
      " 14.7025261 ]\n"
     ]
    }
   ],
   "metadata": {}
  },
  {
   "cell_type": "code",
   "execution_count": 6,
   "source": [
    "X.columns"
   ],
   "outputs": [
    {
     "output_type": "execute_result",
     "data": {
      "text/plain": [
       "Index(['Full Sun', 'Sheltered', 'Generally pest free'], dtype='object')"
      ]
     },
     "metadata": {},
     "execution_count": 6
    }
   ],
   "metadata": {}
  },
  {
   "cell_type": "markdown",
   "source": [
    "### Analysis\n",
    "These resulting coefficients tell us that the weighting of the full exposure of sunlight have a positive correlation to the target variable of predicting maximum height of the plants, whilst the sheltered plants and whether they are generally pest-free have negative weighting to the predictor. "
   ],
   "metadata": {}
  },
  {
   "cell_type": "code",
   "execution_count": 7,
   "source": [
    "# Calculate R2 score\n",
    "print(f'The R2 score for our baseline is: {r2_score(y, y_pred)}')"
   ],
   "outputs": [
    {
     "output_type": "stream",
     "name": "stdout",
     "text": [
      "The R2 score for our baseline is: -0.01878579531821356\n"
     ]
    }
   ],
   "metadata": {}
  },
  {
   "cell_type": "code",
   "execution_count": 8,
   "source": [
    "from sklearn.tree import DecisionTreeRegressor\n",
    "\n",
    "# Fit model\n",
    "regressor = DecisionTreeRegressor(random_state=seed)\n",
    "regressor.fit(X_train, y_train)\n",
    "regressor_train_score = regressor.score(X_train, y_train)\n",
    "regressor_val_score = regressor.score(X_val, y_val)\n",
    "\n",
    "# Check scores on train and validation\n",
    "print(f'Score on the training set is: {regressor_train_score}')\n",
    "print(f'Score on the validation set is: {regressor_val_score}')\n",
    "\n",
    "# Check cross validation score on validation set\n",
    "regessor_cross_val_score = cross_val_score(regressor, X_val, y_val, cv=5)\n",
    "print(f'cross validation scores: {regessor_cross_val_score}')\n",
    "print(\"%0.2f accuracy with a standard deviation of %0.2f\" % (regessor_cross_val_score.mean(), regessor_cross_val_score.std()))\n",
    "\n",
    "# Predict\n",
    "regressor_y_pred = regressor.predict(X)\n",
    "print(f'predicted values: {regressor_y_pred}')"
   ],
   "outputs": [
    {
     "output_type": "stream",
     "name": "stdout",
     "text": [
      "Score on the training set is: 0.028705013037113702\n",
      "Score on the validation set is: -0.020742472662614864\n",
      "cross validation scores: [ 6.39066992e-05 -1.63624536e-02  1.86080767e-02  2.98665014e-02\n",
      " -2.85383412e-02]\n",
      "0.00 accuracy with a standard deviation of 0.02\n",
      "predicted values: [13.04166667 14.5625     14.78571429 ... 13.20833333 14.5625\n",
      " 14.5625    ]\n"
     ]
    }
   ],
   "metadata": {}
  },
  {
   "cell_type": "code",
   "execution_count": 9,
   "source": [
    "from sklearn.neighbors import KNeighborsRegressor\n",
    "\n",
    "# Fit model\n",
    "neigh = KNeighborsRegressor(n_neighbors=2)\n",
    "neigh.fit(X_train, y_train)\n",
    "neigh_train_score = neigh.score(X_train, y_train)\n",
    "neigh_val_score = neigh.score(X_val, y_val)\n",
    "\n",
    "# Check scores on train and validation\n",
    "print(f'Score on the training set is: {neigh_train_score}')\n",
    "print(f'Score on the validation set is: {neigh_val_score}')\n",
    "\n",
    "# Check cross validation score on validation set\n",
    "neigh_cross_val_scores = cross_val_score(neigh, X_val, y_val, cv=5)\n",
    "print(f'cross validation scores: {neigh_cross_val_scores}')\n",
    "print(\"%0.2f accuracy with a standard deviation of %0.2f\" % (neigh_cross_val_scores.mean(), neigh_cross_val_scores.std()))\n",
    "\n",
    "# Predict\n",
    "neigh_y_pred = neigh.predict(X)\n",
    "print(f'predicted values: {neigh_y_pred}')"
   ],
   "outputs": [
    {
     "output_type": "stream",
     "name": "stdout",
     "text": [
      "Score on the training set is: -0.4969942145889821\n",
      "Score on the validation set is: -0.5089283546522478\n",
      "cross validation scores: [-0.17651631 -0.15580016 -0.62018555 -0.34942463 -0.18788172]\n",
      "-0.30 accuracy with a standard deviation of 0.18\n",
      "predicted values: [15.   5.   5.  ... 27.5  5.   5. ]\n"
     ]
    }
   ],
   "metadata": {}
  },
  {
   "cell_type": "markdown",
   "source": [
    "### Hyperparameter search"
   ],
   "metadata": {}
  },
  {
   "cell_type": "code",
   "execution_count": 30,
   "source": [
    "from sklearn.linear_model import Ridge\n",
    "from sklearn.model_selection import GridSearchCV\n",
    "\n",
    "# Define hyperparameters\n",
    "param_grid = {\n",
    "    'alpha': np.array([1,0.1,0.01,0.001,0.0001,0]),\n",
    "}\n",
    "\n",
    "# Fit grid search\n",
    "ridge_reg = GridSearchCV(ridge_model, param_grid, scoring='neg_mean_squared_error', cv=5)\n",
    "ridge_reg.fit(X_train, y_train)\n",
    "\n",
    "# Best estimator\n",
    "print(f'Best estimator: {ridge_reg.best_estimator_}')\n",
    "\n",
    "# Best model\n",
    "best_model = ridge_reg.best_estimator_\n",
    "best_model.fit(X_train, y_train)\n",
    "\n",
    "best_model_train = best_model.score(X_train, y_train)\n",
    "best_model_val = best_model.score(X_val, y_val)\n",
    "\n",
    "# Check scores on train and validation\n",
    "print(f'Score on the training set is: {best_model_train}')\n",
    "print(f'Score on the validation set is: {best_model_val}')\n",
    "\n",
    "# Check cross validation score on validation set\n",
    "best_model_scores = cross_val_score(best_model, X_val, y_val, cv=5)\n",
    "print(f'cross validation scores: {best_model_scores}')\n",
    "print(\"%0.2f accuracy with a standard deviation of %0.2f\" % (best_model_scores.mean(), best_model_scores.std()))\n",
    "\n",
    "# Predict\n",
    "best_model_y_pred = best_model.predict(X)\n",
    "print(f'predicted values: {best_model_y_pred}')"
   ],
   "outputs": [
    {
     "output_type": "stream",
     "name": "stdout",
     "text": [
      "Best estimator: Ridge()\n",
      "Score on the training set is: 0.020826324790739204\n",
      "Score on the validation set is: -0.02917097006685543\n",
      "cross validation scores: [-0.00665355 -0.00827174 -0.00300594 -0.0037527  -0.0143959 ]\n",
      "-0.01 accuracy with a standard deviation of 0.00\n",
      "predicted values: [12.72923546 14.69124112 15.93846354 ...  9.56834034 14.69124112\n",
      " 14.69124112]\n"
     ]
    }
   ],
   "metadata": {}
  }
 ],
 "metadata": {
  "orig_nbformat": 4,
  "language_info": {
   "name": "python",
   "version": "3.9.1",
   "mimetype": "text/x-python",
   "codemirror_mode": {
    "name": "ipython",
    "version": 3
   },
   "pygments_lexer": "ipython3",
   "nbconvert_exporter": "python",
   "file_extension": ".py"
  },
  "kernelspec": {
   "name": "python3",
   "display_name": "Python 3.9.1 64-bit ('base': conda)"
  },
  "interpreter": {
   "hash": "569d6b7e9215e11aba41c6454007e5c1b78bad7df09dab765d8cf00362c40f03"
  }
 },
 "nbformat": 4,
 "nbformat_minor": 2
}