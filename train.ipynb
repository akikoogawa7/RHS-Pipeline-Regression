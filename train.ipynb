{
 "cells": [
  {
   "cell_type": "code",
   "execution_count": 27,
   "source": [
    "from sklearn import model_selection, preprocessing\n",
    "from sklearn.preprocessing import StandardScaler\n",
    "from sklearn.model_selection import train_test_split, validation_curve, cross_val_score\n",
    "from sklearn. linear_model import LinearRegression\n",
    "from sklearn.metrics import mean_squared_error, r2_score\n",
    "from get_data import split_data\n",
    "import numpy as np\n",
    "import pandas as pd\n",
    "import matplotlib.pyplot as plt\n",
    "# Set random seed\n",
    "seed = 42"
   ],
   "outputs": [],
   "metadata": {}
  },
  {
   "cell_type": "markdown",
   "source": [
    "## Import Cleaned Data"
   ],
   "metadata": {}
  },
  {
   "cell_type": "code",
   "execution_count": 28,
   "source": [
    "X = pd.read_csv('rhs_cleaned_dataset.csv')\n",
    "y = X.pop('Max Time To Ultimate Height')"
   ],
   "outputs": [],
   "metadata": {}
  },
  {
   "cell_type": "code",
   "execution_count": 29,
   "source": [
    "# Train data\n",
    "X_train, X_test, y_train, y_test = train_test_split(X, y, test_size=0.8, random_state=seed)\n",
    "X_train, X_val, y_train, y_val = train_test_split(X, y, test_size=0.8, random_state=seed)"
   ],
   "outputs": [],
   "metadata": {}
  },
  {
   "cell_type": "code",
   "execution_count": 30,
   "source": [
    "# Normalise data\n",
    "scaler = preprocessing.StandardScaler()\n",
    "X_train_scaler= scaler.fit(X_train)\n",
    "X_scaled = X_train_scaler.transform(X_train)"
   ],
   "outputs": [],
   "metadata": {}
  },
  {
   "cell_type": "markdown",
   "source": [
    "## Fitting Linear Model\n",
    "### Setting the baseline"
   ],
   "metadata": {}
  },
  {
   "cell_type": "code",
   "execution_count": 32,
   "source": [
    "# Fit model\n",
    "linear_regression_model = LinearRegression(normalize=True)\n",
    "linear_regression_model.fit(X_train, y_train)\n",
    "lin_reg_train_score = linear_regression_model.score(X_train, y_train)\n",
    "lin_reg_val_score = linear_regression_model.score(X_val, y_val)\n",
    "\n",
    "# Check scores on train and validation\n",
    "print(f'Score on the training set is: {lin_reg_train_score}')\n",
    "print(f'Score on the validation set is: {lin_reg_val_score}')\n",
    "print(f'Linear regression coefficients are: {linear_regression_model.coef_}')\n",
    "\n",
    "# Check cross validation score on validation set\n",
    "lin_reg_cross_val_scores = cross_val_score(linear_regression_model, X_val, y_val, cv=10)\n",
    "print(f'cross validation scores: {lin_reg_cross_val_scores}')\n",
    "print(\"%0.2f accuracy with a standard deviation of %0.2f\" % (lin_reg_cross_val_scores.mean(), lin_reg_cross_val_scores.std()))\n",
    "\n",
    "y_pred = linear_regression_model.predict(X)\n",
    "print(f'predicted values: {y_pred}')"
   ],
   "outputs": [
    {
     "output_type": "stream",
     "name": "stdout",
     "text": [
      "Score on the training set is: 0.7306164095469609\n",
      "Score on the validation set is: 0.7341862387967846\n",
      "Linear regression coefficients are: [ 1.63378209 -0.70512515 -0.39970037  1.52343794  0.19635033  0.22356054\n",
      "  2.5414895 ]\n",
      "cross validation scores: [0.66293946 0.67164717 0.72693639 0.83923137 0.77730913 0.74275462\n",
      " 0.7457816  0.74006211 0.66380927 0.74166417]\n",
      "0.73 accuracy with a standard deviation of 0.05\n",
      "predicted values: [13.81170045 45.68126394 46.60992089 ...  8.14212358 19.13650209\n",
      "  7.42898566]\n"
     ]
    }
   ],
   "metadata": {}
  },
  {
   "cell_type": "code",
   "execution_count": 34,
   "source": [
    "X.columns"
   ],
   "outputs": [
    {
     "output_type": "execute_result",
     "data": {
      "text/plain": [
       "Index(['Full Sun', 'Sheltered', 'Generally pest free', 'Min Ultimate Height',\n",
       "       'Max Ultimate Height', 'Min Ultimate Spread', 'Max Ultimate Spread'],\n",
       "      dtype='object')"
      ]
     },
     "metadata": {},
     "execution_count": 34
    }
   ],
   "metadata": {}
  },
  {
   "cell_type": "markdown",
   "source": [
    "### Analysis\n",
    "These resulting coefficients tell us that the weighting of the full exposure of sunlight have a positive correlation to the target variable of predicting maximum height of the plants, whilst the sheltered plants and whether they are generally pest-free have negative weighting to the predictor. "
   ],
   "metadata": {}
  },
  {
   "cell_type": "code",
   "execution_count": 38,
   "source": [
    "# Calculate R2 score\n",
    "print(f'The R2 score for our baseline is: {r2_score(y, y_pred)}')"
   ],
   "outputs": [
    {
     "output_type": "stream",
     "name": "stdout",
     "text": [
      "The R2 score for our baseline is: 0.7335148333840158\n"
     ]
    }
   ],
   "metadata": {}
  },
  {
   "cell_type": "code",
   "execution_count": 47,
   "source": [
    "from sklearn.tree import DecisionTreeRegressor\n",
    "\n",
    "# Fit model\n",
    "regressor = DecisionTreeRegressor(random_state=seed)\n",
    "regressor.fit(X_train, y_train)\n",
    "regressor_train_score = regressor.score(X_train, y_train)\n",
    "regressor_val_score = regressor.score(X_val, y_val)\n",
    "\n",
    "# Check scores on train and validation\n",
    "print(f'Score on the training set is: {regressor_train_score}')\n",
    "print(f'Score on the validation set is: {regressor_val_score}')\n",
    "\n",
    "# Check cross validation score on validation set\n",
    "regessor_cross_val_score = cross_val_score(regressor, X_val, y_val, cv=10)\n",
    "print(f'cross validation scores: {regessor_cross_val_score}')\n",
    "print(\"%0.2f accuracy with a standard deviation of %0.2f\" % (regessor_cross_val_score.mean(), regessor_cross_val_score.std()))\n",
    "\n",
    "regressor_y_pred = regressor.predict(X)\n",
    "print(f'predicted values: {regressor_y_pred}')"
   ],
   "outputs": [
    {
     "output_type": "stream",
     "name": "stdout",
     "text": [
      "Score on the training set is: 0.856941360664495\n",
      "Score on the validation set is: 0.6442495327992072\n",
      "cross validation scores: [0.65388424 0.71175702 0.72483935 0.84267534 0.72218291 0.75153061\n",
      " 0.70319817 0.71756827 0.62448281 0.72833501]\n",
      "0.72 accuracy with a standard deviation of 0.05\n",
      "predicted values: [10.  50.  20.  ...  5.  12.5  5. ]\n"
     ]
    }
   ],
   "metadata": {}
  },
  {
   "cell_type": "code",
   "execution_count": 54,
   "source": [
    "from sklearn.neighbors import KNeighborsRegressor\n",
    "\n",
    "# Fit model\n",
    "neigh = KNeighborsRegressor(n_neighbors=2)\n",
    "neigh.fit(X_train, y_train)\n",
    "neigh_train_score = neigh.score(X_train, y_train)\n",
    "neigh_val_score = neigh.score(X_val, y_val)\n",
    "\n",
    "# Check scores on train and validation\n",
    "print(f'Score on the training set is: {neigh_train_score}')\n",
    "print(f'Score on the validation set is: {neigh_val_score}')\n",
    "\n",
    "# Check cross validation score on validation set\n",
    "neigh_cross_val_scores = cross_val_score(neigh, X_val, y_val, cv=10)\n",
    "print(f'cross validation scores: {neigh_cross_val_scores}')\n",
    "print(\"%0.2f accuracy with a standard deviation of %0.2f\" % (neigh_cross_val_scores.mean(), neigh_cross_val_scores.std()))\n",
    "\n",
    "neigh_y_pred = neigh.predict(X)\n",
    "print(f'predicted values: {neigh_y_pred}')"
   ],
   "outputs": [
    {
     "output_type": "stream",
     "name": "stdout",
     "text": [
      "Score on the training set is: 0.7943498483312859\n",
      "Score on the validation set is: 0.637771756420163\n",
      "cross validation scores: [0.49758661 0.64008145 0.64119027 0.75014302 0.63130527 0.67423374\n",
      " 0.49115764 0.59007685 0.56526853 0.62790331]\n",
      "0.61 accuracy with a standard deviation of 0.07\n",
      "predicted values: [11.  50.  20.  ...  5.  12.5  5. ]\n"
     ]
    }
   ],
   "metadata": {}
  }
 ],
 "metadata": {
  "orig_nbformat": 4,
  "language_info": {
   "name": "python",
   "version": "3.9.1",
   "mimetype": "text/x-python",
   "codemirror_mode": {
    "name": "ipython",
    "version": 3
   },
   "pygments_lexer": "ipython3",
   "nbconvert_exporter": "python",
   "file_extension": ".py"
  },
  "kernelspec": {
   "name": "python3",
   "display_name": "Python 3.9.1 64-bit ('base': conda)"
  },
  "interpreter": {
   "hash": "569d6b7e9215e11aba41c6454007e5c1b78bad7df09dab765d8cf00362c40f03"
  }
 },
 "nbformat": 4,
 "nbformat_minor": 2
}